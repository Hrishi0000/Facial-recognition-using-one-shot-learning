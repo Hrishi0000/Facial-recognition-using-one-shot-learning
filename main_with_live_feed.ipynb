{
 "cells": [
  {
   "cell_type": "code",
   "execution_count": 1,
   "metadata": {},
   "outputs": [
    {
     "name": "stderr",
     "output_type": "stream",
     "text": [
      "Using TensorFlow backend.\n",
      "WARNING:root:Limited tf.compat.v2.summary API due to missing TensorBoard installation.\n",
      "WARNING:root:Limited tf.compat.v2.summary API due to missing TensorBoard installation.\n",
      "WARNING:root:Limited tf.compat.v2.summary API due to missing TensorBoard installation.\n",
      "WARNING:root:Limited tf.summary API due to missing TensorBoard installation.\n"
     ]
    }
   ],
   "source": [
    "import numpy as np\n",
    "import cv2\n",
    "import matplotlib.pyplot as plt\n",
    "import matplotlib.patches as patches\n",
    "import matplotlib.image as mpimg\n",
    "\n",
    "from align import AlignDlib\n",
    "from imutils import face_utils\n",
    "import dlib\n",
    "\n",
    "from keras.models import load_model,model_from_json\n",
    "import tensorflow as tf\n",
    "%matplotlib inline\n"
   ]
  },
  {
   "cell_type": "code",
   "execution_count": null,
   "metadata": {},
   "outputs": [],
   "source": []
  },
  {
   "cell_type": "code",
   "execution_count": 18,
   "metadata": {},
   "outputs": [],
   "source": [
    "def load_final_model():\n",
    "    '''\n",
    "    Loads the Final Model saved in the fir 'final_model'\n",
    "    '''\n",
    "    # load json and create model\n",
    "    json_file = open('final_model/model.json', 'r')\n",
    "    loaded_model_json = json_file.read()\n",
    "    json_file.close()\n",
    "    nn4_small2 = model_from_json(loaded_model_json,custom_objects={'tf': tf})\n",
    "    # load weights into new model\n",
    "    nn4_small2.load_weights(\"final_model/model.h5\")\n",
    "    print(\"[INFO]:Loaded model from disk\")\n",
    "    return nn4_small2"
   ]
  },
  {
   "cell_type": "code",
   "execution_count": 19,
   "metadata": {},
   "outputs": [],
   "source": [
    "# model = load_final_model()\n",
    "# print(type(model))"
   ]
  },
  {
   "cell_type": "code",
   "execution_count": 20,
   "metadata": {},
   "outputs": [],
   "source": [
    "def load_image(path):\n",
    "    '''\n",
    "    OBJECTIVE: Load image \n",
    "    \n",
    "    Returns:\n",
    "    RGB image\n",
    "    '''\n",
    "    img = cv2.imread(path, 1)\n",
    "    return img[...,::-1] #Convert to RGB and return"
   ]
  },
  {
   "cell_type": "code",
   "execution_count": null,
   "metadata": {},
   "outputs": [],
   "source": []
  },
  {
   "cell_type": "code",
   "execution_count": 21,
   "metadata": {},
   "outputs": [],
   "source": [
    "def align_image(img,bb):\n",
    "    '''\n",
    "    OBJECTIVE: Align a face based using DLIB model\n",
    "    \n",
    "    Parameter:\n",
    "    test - RGB Image\n",
    "    bb - bounding box around the person to be searched\n",
    "    \n",
    "    Returns:\n",
    "    Aligned face\n",
    "    \n",
    "    '''\n",
    "    \n",
    "    # return alignment.align(96, img, alignment.getLargestFaceBoundingBox(img), landmarkIndices=AlignDlib.OUTER_EYES_AND_NOSE)\n",
    "    if(bb):\n",
    "        return alignment.align(96, img, bb, landmarkIndices=AlignDlib.OUTER_EYES_AND_NOSE)\n",
    "    else:\n",
    "        return alignment.align(96, img, alignment.getLargestFaceBoundingBox(img), landmarkIndices=AlignDlib.OUTER_EYES_AND_NOSE)"
   ]
  },
  {
   "cell_type": "code",
   "execution_count": 22,
   "metadata": {},
   "outputs": [],
   "source": [
    "\n",
    "def generate_encoding(img,bb):\n",
    "    '''\n",
    "    OBJECTIVE: Generates an 128D encoding based on the loaded model\n",
    "    \n",
    "    Parameter:\n",
    "    test - RGB Image\n",
    "    bb - bounding box around the person to be searched\n",
    "    \n",
    "    Returns:\n",
    "    embedded-128D encoding\n",
    "    '''\n",
    "    embedded = np.zeros((1, 128)) #Declare a placeholder variable\n",
    "    #print(m.image_path())    \n",
    "    # img = load_image(path)\n",
    "    img = align_image(img,bb) #Align the image \n",
    "    # plt.imshow(img)\n",
    "    # scale RGB values to interval [0,1]\n",
    "    img = (img / 255.).astype(np.float32)\n",
    "    # obtain embedding vector for image\n",
    "    embedded= nn4_small2.predict(np.expand_dims(img, axis=0))[0] #generate encoding\n",
    "    return embedded"
   ]
  },
  {
   "cell_type": "code",
   "execution_count": 23,
   "metadata": {},
   "outputs": [],
   "source": [
    "def distance(emb1, emb2):\n",
    "    '''\n",
    "    OBJECTIVE: Compute and return eucledian distance\n",
    "    '''\n",
    "    return np.sum(np.square(emb1 - emb2))"
   ]
  },
  {
   "cell_type": "code",
   "execution_count": 24,
   "metadata": {},
   "outputs": [],
   "source": [
    "def recognise(test,bb):\n",
    "    '''\n",
    "    OBJECTIVE: Search the database for matching faces based on lowest distance\n",
    "    \n",
    "    Parameter:\n",
    "    test - RGB Image\n",
    "    bb - bounding box around the person to be searched\n",
    "    \n",
    "    Returns:\n",
    "    min_dist - Minimum distance on the 128D space \n",
    "    identity - str identity of person matched as stored in database, 0 if no person found\n",
    "    '''\n",
    "    \n",
    "    threshold = 0.75 #Set according to the Facenet Paper\n",
    "    test_em=None\n",
    "    test_em = generate_encoding(test,bb) #Generate the 128D encoding\n",
    "    min_dist = 100 #Set a max min distance\n",
    "\n",
    "    for (name, db_enc) in database.items(): #Checks for each entries in the database\n",
    "\n",
    "        dist = distance(test_em,db_enc)\n",
    "\n",
    "        if dist < min_dist:\n",
    "          min_dist = dist\n",
    "          identity = name\n",
    "\n",
    "\n",
    "    if min_dist > threshold:\n",
    "        identity=0\n",
    "    #       print(min_dist,\"Not in the database.\")\n",
    "    else:\n",
    "    #       print (min_dist,\"it's \" + str(identity) )\n",
    "        pass\n",
    "\n",
    "\n",
    "    return min_dist, identity"
   ]
  },
  {
   "cell_type": "code",
   "execution_count": 25,
   "metadata": {},
   "outputs": [],
   "source": [
    "def make_database(entries):\n",
    "    '''\n",
    "    OBJECTIVE: Generate Database\n",
    "    \n",
    "    Parameters:python dictionary with the keys as id and values and image path \n",
    "    '''\n",
    "    print('[INFO]:Creating New Database....')    \n",
    "    for (i,j) in entries.items():\n",
    "        if i not in database.keys():\n",
    "            img = load_image(j)\n",
    "            #       print(i)\n",
    "            database[i] = generate_encoding(img,0)\n",
    "\n",
    "    print('[INFO]:New Database Creation Completed!')"
   ]
  },
  {
   "cell_type": "code",
   "execution_count": 26,
   "metadata": {},
   "outputs": [],
   "source": [
    "def face_recognition(path):\n",
    "    \n",
    "    '''\n",
    "    OBJECTIVE: Perform Face Recognition on Images\n",
    "    \n",
    "    Parameters:\n",
    "    path-image path\n",
    "    '''\n",
    "    print('Recognising faces......')\n",
    "    rgbImg = load_image(path) #Load the RGB Image from the path\n",
    "    \n",
    "    #detector is defined in the main function\n",
    "    res = detector(rgbImg, 1) #Get all the bounding boxes af all the faces dectected in the image\n",
    "    \n",
    "    \n",
    "    for bb in res: #Run for each bounding box,i.e for person detected\n",
    "        \n",
    "        (x, y, w, h) = face_utils.rect_to_bb(bb) #Get the coordinated from the bounding box\n",
    "        # cv2.rectangle(rgbImg, (x, y), (x + w, y + h), (255, 255, 0), 2)\n",
    "        dist , id = recognise(rgbImg,bb) #Returns  the minimum distance and the identity as stored in the database\n",
    "        # plt.imshow()\n",
    "        \n",
    "        if (id): #If person is detected\n",
    "            plt.gca().add_patch(patches.Rectangle((bb.left(), bb.top()), bb.width(), bb.height(), fill=False, color='red'))\n",
    "            plt.text(bb.left(), (bb.bottom()+bb.height() / 2) , id,color='black',size='large',backgroundcolor='white')\n",
    "\n",
    "    plt.imshow(rgbImg)\n",
    "    print('Face Recognition Complete!')"
   ]
  },
  {
   "cell_type": "code",
   "execution_count": 27,
   "metadata": {},
   "outputs": [],
   "source": [
    "def live_feed():\n",
    "    \n",
    "    '''\n",
    "    OBJECTIVE: Perform Face Recognition on Live Video    \n",
    "    '''\n",
    "    cap = cv2.VideoCapture(0)\n",
    "    \n",
    "    while True:\n",
    "            start_frame_number = 5\n",
    "            cap.set(cv2.CAP_PROP_POS_FRAMES, start_frame_number)\n",
    "            ret, img = cap.read()\n",
    "            rgbImg = cv2.cvtColor(img, cv2.COLOR_BGR2RGB)\n",
    "            subjects = detector(rgbImg, 1)\n",
    "\n",
    "            for subject in subjects:\n",
    "                (x, y, w, h) = face_utils.rect_to_bb(subject)\n",
    "                cv2.rectangle(img, (x, y), (x + w, y + h), (255, 255, 0), 2)\n",
    "                dist , id = recognise(rgbImg,subject)\n",
    "                if(id!=0):\n",
    "                    cv2.putText(img, \"Face : \" + str(id), (x, y - 50), cv2.FONT_HERSHEY_PLAIN, 1.5, (0, 255, 0), 2)\n",
    "                else:\n",
    "                    cv2.putText(img, \"Face : \" + 'Not Recognised', (x, y - 50), cv2.FONT_HERSHEY_PLAIN, 1.5, (0, 255, 0), 2)\n",
    "            cv2.imshow('Recognizing faces', img)\n",
    "            if cv2.waitKey(1) == ord('q'):\n",
    "                break\n",
    "\n",
    "    cap.release()\n",
    "    cv2.destroyAllWindows()"
   ]
  },
  {
   "cell_type": "code",
   "execution_count": 28,
   "metadata": {},
   "outputs": [
    {
     "name": "stdout",
     "output_type": "stream",
     "text": [
      "[INFO] Loaded model from disk\n",
      "[INFO]:Creating New Database....\n",
      "[INFO]:New Database Creation Completed!\n"
     ]
    }
   ],
   "source": [
    "if __name__ == '__main__':\n",
    "    '''\n",
    "    Main function\n",
    "    '''\n",
    "    detector = dlib.get_frontal_face_detector()\n",
    "    # Initialize the OpenFace face alignment utility\n",
    "    alignment = AlignDlib('shape_predictor_68_face_landmarks.dat')\n",
    "    nn4_small2 = load_final_model()    \n",
    "    \n",
    "    database={}\n",
    "    \n",
    "    entries={}\n",
    "    entries['Hrishi']='images/hrishi1.jpg'\n",
    "    entries['Shaima']='images/shaima1.jpg'\n",
    "    entries['Debanshi']='images/debanshi1.jpg'\n",
    "    make_database(entries)\n",
    "    \n",
    "    "
   ]
  },
  {
   "cell_type": "code",
   "execution_count": 17,
   "metadata": {},
   "outputs": [
    {
     "name": "stdout",
     "output_type": "stream",
     "text": [
      "Recognising faces......\n",
      "Face Recognition Complete!\n"
     ]
    },
    {
     "data": {
      "image/png": "[encoded data removed]",
      "text/plain": [
       "<Figure size 432x288 with 1 Axes>"
      ]
     },
     "metadata": {
      "needs_background": "light"
     },
     "output_type": "display_data"
    }
   ],
   "source": [
    "face_recognition('images/New Project.jpg')"
   ]
  },
  {
   "cell_type": "code",
   "execution_count": 14,
   "metadata": {},
   "outputs": [],
   "source": [
    "# live_feed()"
   ]
  }
 ],
 "metadata": {
  "kernelspec": {
   "display_name": "Python 3",
   "language": "python",
   "name": "python3"
  },
  "language_info": {
   "codemirror_mode": {
    "name": "ipython",
    "version": 3
   },
   "file_extension": ".py",
   "mimetype": "text/x-python",
   "name": "python",
   "nbconvert_exporter": "python",
   "pygments_lexer": "ipython3",
   "version": "3.8.3"
  }
 },
 "nbformat": 4,
 "nbformat_minor": 4
}
