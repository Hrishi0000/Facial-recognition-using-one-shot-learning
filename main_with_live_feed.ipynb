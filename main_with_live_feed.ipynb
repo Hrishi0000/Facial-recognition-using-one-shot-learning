{
 "cells": [
  {
   "cell_type": "code",
   "execution_count": 113,
   "metadata": {},
   "outputs": [],
   "source": [
    "import numpy as np\n",
    "import cv2\n",
    "import matplotlib.pyplot as plt\n",
    "import matplotlib.patches as patches\n",
    "import matplotlib.image as mpimg\n",
    "\n",
    "from align import AlignDlib\n",
    "from imutils import face_utils\n",
    "import dlib\n",
    "import pickle\n",
    "\n",
    "from keras.models import load_model,model_from_json\n",
    "import tensorflow as tf\n",
    "%matplotlib inline\n"
   ]
  },
  {
   "cell_type": "code",
   "execution_count": 4,
   "metadata": {},
   "outputs": [
    {
     "name": "stdout",
     "output_type": "stream",
     "text": [
      "Collecting keras\n",
      "  Downloading Keras-2.4.2-py2.py3-none-any.whl (170 kB)\n",
      "Collecting pyyaml\n",
      "  Downloading PyYAML-5.3.1-cp38-cp38-win_amd64.whl (219 kB)\n",
      "Requirement already satisfied: scipy>=0.14 in c:\\users\\lenovo\\anaconda3\\envs\\mini-project\\lib\\site-packages (from keras) (1.4.1)\n",
      "Requirement already satisfied: h5py in c:\\users\\lenovo\\anaconda3\\envs\\mini-project\\lib\\site-packages (from keras) (2.10.0)\n",
      "Requirement already satisfied: numpy>=1.9.1 in c:\\users\\lenovo\\anaconda3\\envs\\mini-project\\lib\\site-packages (from keras) (1.18.1)\n",
      "Requirement already satisfied: six in c:\\users\\lenovo\\anaconda3\\envs\\mini-project\\lib\\site-packages (from h5py->keras) (1.15.0)\n",
      "Installing collected packages: pyyaml, keras\n",
      "Successfully installed keras-2.4.2 pyyaml-5.3.1\n"
     ]
    }
   ],
   "source": []
  },
  {
   "cell_type": "code",
   "execution_count": null,
   "metadata": {},
   "outputs": [],
   "source": []
  },
  {
   "cell_type": "code",
   "execution_count": 114,
   "metadata": {},
   "outputs": [],
   "source": [
    "def load_final_model():\n",
    "    '''\n",
    "    Loads the Final Model saved in the fir 'final_model'\n",
    "    '''\n",
    "    # load json and create model\n",
    "    json_file = open('final_model/model.json', 'r')\n",
    "    loaded_model_json = json_file.read()\n",
    "    json_file.close()\n",
    "    nn4_small2 = model_from_json(loaded_model_json,custom_objects={'tf': tf})\n",
    "    # load weights into new model\n",
    "    nn4_small2.load_weights(\"final_model/model.h5\")\n",
    "    print(\"[INFO]:Loaded model from disk\")\n",
    "    return nn4_small2"
   ]
  },
  {
   "cell_type": "code",
   "execution_count": 115,
   "metadata": {},
   "outputs": [
    {
     "name": "stdout",
     "output_type": "stream",
     "text": [
      "[INFO]:Loaded model from disk\n",
      "<class 'tensorflow.python.keras.engine.training.Model'>\n"
     ]
    }
   ],
   "source": [
    "model = load_final_model()\n",
    "print(type(model))\n",
    "#model.summary()"
   ]
  },
  {
   "cell_type": "code",
   "execution_count": 116,
   "metadata": {},
   "outputs": [],
   "source": [
    "def load_image(path):\n",
    "    '''\n",
    "    OBJECTIVE: Load image \n",
    "    \n",
    "    Returns:\n",
    "    RGB image\n",
    "    '''\n",
    "    img = cv2.imread(path, 1)\n",
    "    return img[...,::-1] #Convert to RGB and return"
   ]
  },
  {
   "cell_type": "code",
   "execution_count": null,
   "metadata": {},
   "outputs": [],
   "source": []
  },
  {
   "cell_type": "code",
   "execution_count": 117,
   "metadata": {},
   "outputs": [],
   "source": [
    "def align_image(img,bb):\n",
    "    '''\n",
    "    OBJECTIVE: Align a face based using DLIB model\n",
    "    \n",
    "    Parameter:\n",
    "    test - RGB Image\n",
    "    bb - bounding box around the person to be searched\n",
    "    \n",
    "    Returns:\n",
    "    Aligned face\n",
    "    \n",
    "    '''\n",
    "    \n",
    "    # return alignment.align(96, img, alignment.getLargestFaceBoundingBox(img), landmarkIndices=AlignDlib.OUTER_EYES_AND_NOSE)\n",
    "    if(bb):\n",
    "        return alignment.align(96, img, bb, landmarkIndices=AlignDlib.OUTER_EYES_AND_NOSE)\n",
    "    else:\n",
    "        return alignment.align(96, img, alignment.getLargestFaceBoundingBox(img), landmarkIndices=AlignDlib.OUTER_EYES_AND_NOSE)"
   ]
  },
  {
   "cell_type": "code",
   "execution_count": 118,
   "metadata": {},
   "outputs": [],
   "source": [
    "\n",
    "def generate_encoding(img,bb):\n",
    "    '''\n",
    "    OBJECTIVE: Generates an 128D encoding based on the loaded model\n",
    "    \n",
    "    Parameter:\n",
    "    test - RGB Image\n",
    "    bb - bounding box around the person to be searched\n",
    "    \n",
    "    Returns:\n",
    "    embedded-128D encoding\n",
    "    '''\n",
    "    embedded = np.zeros((1, 128)) #Declare a placeholder variable\n",
    "    #print(m.image_path())    \n",
    "    #img = load_image(path)\n",
    "    img = align_image(img,bb) #Align the image \n",
    "    #plt.imshow(img)\n",
    "    # scale RGB values to interval [0,1]\n",
    "    img = (img / 255).astype(np.float32)\n",
    "    # obtain embedding vector for image\n",
    "    embedded= nn4_small2.predict(np.expand_dims(img, axis=0))[0] #generate encoding\n",
    "    return embedded"
   ]
  },
  {
   "cell_type": "code",
   "execution_count": 119,
   "metadata": {},
   "outputs": [],
   "source": [
    "def distance(emb1, emb2):\n",
    "    '''\n",
    "    OBJECTIVE: Compute and return L2 squared distance\n",
    "    '''\n",
    "    return np.sum(np.square(emb1 - emb2))"
   ]
  },
  {
   "cell_type": "code",
   "execution_count": 120,
   "metadata": {},
   "outputs": [],
   "source": [
    "def recognise(test,bb):\n",
    "    '''\n",
    "    OBJECTIVE: Search the database for matching faces based on lowest distance\n",
    "    \n",
    "    Parameter:\n",
    "    test - RGB Image\n",
    "    bb - bounding box around the person to be searched\n",
    "    \n",
    "    Returns:\n",
    "    min_dist - Minimum distance on the 128D space \n",
    "    identity - str identity of person matched as stored in database, 0 if no person found\n",
    "    '''\n",
    "    \n",
    "    threshold = 0.75 #Set according to the Facenet Paper\n",
    "    test_em=None\n",
    "    test_em = generate_encoding(test,bb) #Generate the 128D encoding\n",
    "    min_dist = 100 #Set a max min distance\n",
    "\n",
    "    for (name, db_enc) in database.items(): #Checks for each entries in the database\n",
    "\n",
    "        dist = distance(test_em,db_enc)\n",
    "\n",
    "        if dist < min_dist:\n",
    "            min_dist = dist\n",
    "            identity = name\n",
    "\n",
    "\n",
    "    if min_dist > threshold:\n",
    "        identity=0\n",
    "    #       print(min_dist,\"Not in the database.\")\n",
    "    else:\n",
    "    #       print (min_dist,\"it's \" + str(identity) )\n",
    "        pass\n",
    "\n",
    "\n",
    "    return min_dist, identity"
   ]
  },
  {
   "cell_type": "code",
   "execution_count": 121,
   "metadata": {},
   "outputs": [],
   "source": [
    "def make_database(entries):\n",
    "    '''\n",
    "    OBJECTIVE: Generate Database\n",
    "    \n",
    "    Parameters:python dictionary with the keys as id and values and image path \n",
    "    '''\n",
    "    print('[INFO]:Creating New Database....')    \n",
    "    for (i,j) in entries.items():\n",
    "        if i not in database.keys():\n",
    "            img = load_image(j)\n",
    "            #print(i)\n",
    "            database[i] = generate_encoding(img,0)\n",
    "           \n",
    "    return database\n",
    "    print('[INFO]:New Database Creation Completed!')"
   ]
  },
  {
   "cell_type": "code",
   "execution_count": 122,
   "metadata": {},
   "outputs": [],
   "source": [
    "def face_recognition(path):\n",
    "    \n",
    "    '''\n",
    "    OBJECTIVE: Perform Face Recognition on Images\n",
    "    \n",
    "    Parameters:\n",
    "    path-image path\n",
    "    \n",
    "    '''\n",
    "    print('Recognising faces......')\n",
    "    rgbImg = load_image(path) #Load the RGB Image from the path\n",
    "    \n",
    "    #detector is defined in the main function\n",
    "    res = detector(rgbImg, 1) #Get all the bounding boxes af all the faces dectected in the image\n",
    "    \n",
    "    \n",
    "    for bb in res: #Run for each bounding box,i.e for each person detected\n",
    "        \n",
    "        (x, y, w, h) = face_utils.rect_to_bb(bb) #Get the coordinates from the bounding box\n",
    "        # cv2.rectangle(rgbImg, (x, y), (x + w, y + h), (255, 255, 0), 2)\n",
    "        dist , id = recognise(rgbImg,bb) #Returns  the minimum distance and the identity as stored in the database\n",
    "        # plt.imshow()\n",
    "        \n",
    "        if (id): #If person is detected\n",
    "            plt.gca().add_patch(patches.Rectangle((bb.left(), bb.top()), bb.width(), bb.height(), fill=False, color='red'))\n",
    "            plt.text(bb.left(), (bb.bottom()+bb.height() / 2) , id,color='black',size='large',backgroundcolor='white')\n",
    "            print('Face Recognition Complete!')\n",
    "        else:\n",
    "            print(\"Face not detected!\")\n",
    "    plt.imshow(rgbImg)\n",
    "    "
   ]
  },
  {
   "cell_type": "code",
   "execution_count": 123,
   "metadata": {},
   "outputs": [],
   "source": [
    "def live_feed():\n",
    "    \n",
    "    '''\n",
    "    OBJECTIVE: Perform Face Recognition on Live Video    \n",
    "    '''\n",
    "    cap = cv2.VideoCapture(0)\n",
    "    \n",
    "    while True:\n",
    "            start_frame_number = 100\n",
    "            cap.set(cv2.CAP_PROP_POS_FRAMES, start_frame_number)\n",
    "            ret, img = cap.read()\n",
    "            rgbImg = cv2.cvtColor(img, cv2.COLOR_BGR2RGB)\n",
    "            subjects = detector(rgbImg, 1)\n",
    "\n",
    "            for subject in subjects:\n",
    "                (x, y, w, h) = face_utils.rect_to_bb(subject)\n",
    "                cv2.rectangle(img, (x, y), (x + w, y + h), (255, 255, 0), 2)\n",
    "                dist , id = recognise(rgbImg,subject)\n",
    "                if(id):\n",
    "                    cv2.putText(img, \"Face : \" + str(id), (x, y - 20), cv2.FONT_HERSHEY_PLAIN, 1.5, (0, 255, 0), 2)\n",
    "                else:\n",
    "                    cv2.putText(img, \"Face : \" + 'Not Recognised', (x, y - 20), cv2.FONT_HERSHEY_PLAIN, 1.5, (0, 255, 0), 2)\n",
    "            cv2.imshow('Recognizing faces', img)\n",
    "            if cv2.waitKey(1) == ord('q'):\n",
    "                break\n",
    "\n",
    "    cap.release()\n",
    "    cv2.destroyAllWindows()"
   ]
  },
  {
   "cell_type": "code",
   "execution_count": 128,
   "metadata": {},
   "outputs": [
    {
     "name": "stdout",
     "output_type": "stream",
     "text": [
      "[INFO]:Loaded model from disk\n",
      "Found\n"
     ]
    }
   ],
   "source": [
    "if __name__ == '__main__':\n",
    "    '''\n",
    "    Main function\n",
    "    '''\n",
    "    detector = dlib.get_frontal_face_detector()\n",
    "    # Initialize the OpenFace face alignment utility\n",
    "    alignment = AlignDlib('shape_predictor_68_face_landmarks.dat')\n",
    "    nn4_small2 = load_final_model()    \n",
    "    \n",
    "    database={}\n",
    "    \n",
    "    count=0\n",
    "    entries={}\n",
    "    entries['Hrishi']='images/hrishi1.jpg'\n",
    "    entries['Shaima']='images/shaima1.jpg'\n",
    "    entries['Debanshi']='images/debanshi3.jpg'\n",
    "    \n",
    "    try:\n",
    "        pkl_file = open('data_file2.pkl', 'rb')\n",
    "        database = pickle.load(pkl_file)\n",
    "        print(\"Found\")\n",
    "        \n",
    "    except FileNotFoundError:\n",
    "        print(\"File not accessible\")\n",
    "        make_database(entries)\n",
    "        new_database(database)\n",
    "        \n",
    "    finally:\n",
    "        pkl_file.close()\n",
    "   \n",
    "        \n",
    "       #     print('True')\n",
    "       # else:\n",
    "    #make_database(entries) \n",
    "    #val=input(\"Do you want to upload new entry to the database?\")\n",
    "    #if (val==yes):\n",
    "   #     entries[\"Dada\"]='images/dada1.jpeg'\n",
    "    #    make_database(entries)\n",
    "    #This make databse function is called everytime on calling main\n",
    "    #In a sepeareate cell call this function once and sve thefinal database ina file \n",
    "    #jete pisot jeitya ami main function tu call kori khi first check koribo file tu ase ne nai\n",
    "    #file tu thakile tare pora dn tu read koribo\n",
    "    #aru nathakile ei make dtabase function tu call koribo\n",
    "    #bujisa? \n",
    "    "
   ]
  },
  {
   "cell_type": "code",
   "execution_count": 129,
   "metadata": {},
   "outputs": [
    {
     "data": {
      "text/plain": [
       "{'Hrishi': array([ 0.05080647,  0.13044083,  0.17319311,  0.1759544 , -0.02169098,\n",
       "         0.08694606,  0.00989091, -0.15438405,  0.09453103, -0.08828596,\n",
       "         0.05989083, -0.07334646, -0.01253596,  0.03583389,  0.08072117,\n",
       "         0.0147185 ,  0.01570261,  0.11713654, -0.13038254, -0.05772687,\n",
       "         0.11378688, -0.03141626, -0.02964375,  0.10746636,  0.17540973,\n",
       "        -0.21261355, -0.18923888,  0.05328912, -0.03500322,  0.11006836,\n",
       "         0.13101584,  0.1310665 , -0.02277093,  0.11798619,  0.08386278,\n",
       "         0.00312751,  0.04275515, -0.00825244,  0.07066341, -0.12430692,\n",
       "         0.01609473, -0.04145231,  0.1272108 , -0.16226074,  0.0844494 ,\n",
       "        -0.16177946, -0.00366811,  0.00087382, -0.03715397,  0.01258474,\n",
       "         0.06361692, -0.0075005 ,  0.11552258,  0.0158539 ,  0.01956377,\n",
       "         0.03112103, -0.0648507 , -0.02260342,  0.00372557, -0.12444879,\n",
       "        -0.07329956,  0.06142073, -0.07640541, -0.1646231 , -0.02289924,\n",
       "         0.2666388 ,  0.03053961, -0.08670426, -0.25179183,  0.05843696,\n",
       "         0.01212451,  0.0042071 , -0.02975328, -0.01194285,  0.00063264,\n",
       "        -0.05896865,  0.08624904, -0.18958479, -0.01431193,  0.06207903,\n",
       "         0.03763492,  0.04020762,  0.00224607, -0.09037995,  0.03271668,\n",
       "         0.04318311, -0.12129287, -0.09267529, -0.03881244,  0.14185132,\n",
       "         0.05209622, -0.13303892,  0.04308796,  0.01180585, -0.05873024,\n",
       "         0.04154262, -0.11975636,  0.0485836 ,  0.00491201,  0.03705658,\n",
       "         0.08612856,  0.00320737, -0.01256917,  0.06363533,  0.05002236,\n",
       "         0.09343385,  0.07387584, -0.03454751,  0.0455387 , -0.02333516,\n",
       "        -0.08671822,  0.00584274, -0.05771824,  0.02944873,  0.07789259,\n",
       "        -0.0508082 , -0.01226131,  0.13122767,  0.03095908,  0.05056485,\n",
       "         0.07338934,  0.01400091,  0.00308178,  0.0105858 ,  0.09874826,\n",
       "         0.03714029,  0.1766419 , -0.03018762], dtype=float32),\n",
       " 'Shaima': array([ 0.14182144, -0.08377513, -0.09792396,  0.144404  ,  0.09058914,\n",
       "         0.09144216,  0.0090329 , -0.01305687, -0.00336771, -0.04104937,\n",
       "         0.169742  ,  0.16690749,  0.05380274, -0.06048598, -0.08114439,\n",
       "        -0.01400776,  0.07754417,  0.23495333, -0.07038518,  0.10388786,\n",
       "         0.15737632, -0.01898018,  0.1359957 ,  0.1786475 ,  0.01727809,\n",
       "        -0.16391426,  0.04271078, -0.16587143, -0.13296945,  0.13420652,\n",
       "        -0.08802372, -0.00358622,  0.07361709,  0.13391605, -0.05052069,\n",
       "        -0.0358565 , -0.05335455, -0.04686135, -0.08913862, -0.00638099,\n",
       "        -0.01603707,  0.01885964, -0.0493692 ,  0.06851631, -0.21458836,\n",
       "        -0.18619247,  0.03729506, -0.06073542,  0.02239268,  0.15739453,\n",
       "         0.19647886, -0.0841785 , -0.0951822 ,  0.04178396,  0.0188628 ,\n",
       "         0.0224513 ,  0.0684902 , -0.01796186,  0.01834545,  0.05234969,\n",
       "        -0.02321632, -0.08686005,  0.05157517, -0.12199406,  0.0394481 ,\n",
       "        -0.20524995, -0.05664334,  0.00414741, -0.07648806,  0.15538357,\n",
       "         0.01053538,  0.03576289, -0.01767425, -0.09808765, -0.1217436 ,\n",
       "         0.00807338,  0.04017833,  0.03658336, -0.11547778,  0.02229569,\n",
       "        -0.12387286,  0.01638585,  0.01376474, -0.05018491, -0.05320178,\n",
       "         0.12271003,  0.04719913, -0.09286045, -0.05510633,  0.01269028,\n",
       "        -0.03600079, -0.14922184, -0.10700173, -0.02040527, -0.02566117,\n",
       "        -0.05924175, -0.15561137,  0.00340922, -0.02344283,  0.0019546 ,\n",
       "         0.07556055,  0.04690689,  0.06744057,  0.07576194,  0.11747654,\n",
       "        -0.05486168, -0.01867335,  0.0136659 , -0.08672425, -0.03065023,\n",
       "        -0.09634055,  0.01927336,  0.08378157,  0.01128704, -0.01256137,\n",
       "         0.02712915,  0.04880564, -0.05287116,  0.01038328,  0.14969347,\n",
       "        -0.00384281,  0.01968427, -0.09209866,  0.06120089,  0.06805672,\n",
       "         0.00966375,  0.08371018,  0.055267  ], dtype=float32),\n",
       " 'Debanshi': array([ 0.1806067 ,  0.03170702, -0.17487226,  0.10418022,  0.05510217,\n",
       "         0.23219365,  0.02726214, -0.0972436 , -0.04198461, -0.04652229,\n",
       "         0.19719407,  0.08610569,  0.05435959, -0.09359449, -0.09165979,\n",
       "        -0.00418774, -0.01592256,  0.16809502, -0.06074748,  0.02470674,\n",
       "         0.16553913, -0.02230378,  0.03660268,  0.12711978,  0.07205605,\n",
       "        -0.15669373, -0.00260968, -0.14348641, -0.07438189,  0.18133272,\n",
       "        -0.0252265 ,  0.01788443, -0.09188525,  0.1063217 , -0.02031139,\n",
       "         0.00977818, -0.09473911, -0.17391951,  0.05669208,  0.03027766,\n",
       "        -0.02388929, -0.06257864, -0.0146041 ,  0.10507144, -0.11184184,\n",
       "        -0.17064586,  0.07280011,  0.02081564, -0.05675179,  0.11750485,\n",
       "         0.15575637,  0.01300101, -0.09983262,  0.02141094, -0.01760628,\n",
       "         0.02669482, -0.00269558,  0.07580034,  0.00485685,  0.03047745,\n",
       "        -0.0412679 , -0.00824526,  0.19211343, -0.16025808, -0.01743755,\n",
       "        -0.13688648, -0.00534767, -0.00723425, -0.08675638,  0.14491926,\n",
       "        -0.00134901,  0.10118338, -0.04337756, -0.05422411, -0.11077741,\n",
       "        -0.05762436,  0.04623907, -0.01133338, -0.13632208,  0.11241957,\n",
       "        -0.01970043,  0.00175413,  0.0181102 , -0.05856331, -0.13879581,\n",
       "         0.17177483,  0.01700865, -0.17594114, -0.04123522,  0.02483158,\n",
       "         0.02863351, -0.17243515, -0.12098904,  0.00462427, -0.04205246,\n",
       "        -0.06570175, -0.12480281,  0.00506988, -0.00586383,  0.01363737,\n",
       "         0.06351727,  0.08100493,  0.02996294,  0.09704925,  0.04675381,\n",
       "         0.04099743, -0.02934224,  0.11941211, -0.12773293,  0.01437283,\n",
       "        -0.0228429 ,  0.00326275,  0.02452231,  0.01437021,  0.00464939,\n",
       "         0.05079214,  0.0369825 ,  0.02923394,  0.07772204,  0.1255273 ,\n",
       "         0.03480796, -0.08260822, -0.00208677,  0.05481993,  0.01539185,\n",
       "         0.01405376,  0.06566767,  0.05707422], dtype=float32)}"
      ]
     },
     "execution_count": 129,
     "metadata": {},
     "output_type": "execute_result"
    }
   ],
   "source": [
    "database\n"
   ]
  },
  {
   "cell_type": "code",
   "execution_count": 125,
   "metadata": {},
   "outputs": [],
   "source": [
    "def new_database(database):\n",
    "    f = open(\"data_file2.pkl\",\"wb\")\n",
    "    pickle.dump(database,f)\n",
    "   \n",
    "    f.close()"
   ]
  },
  {
   "cell_type": "code",
   "execution_count": 130,
   "metadata": {},
   "outputs": [
    {
     "name": "stdout",
     "output_type": "stream",
     "text": [
      "Recognising faces......\n",
      "Face Recognition Complete!\n",
      "Face Recognition Complete!\n",
      "Face Recognition Complete!\n"
     ]
    },
    {
     "data": {
      "image/png": "[encoded data removed]",
      "text/plain": [
       "<Figure size 432x288 with 1 Axes>"
      ]
     },
     "metadata": {
      "needs_background": "light"
     },
     "output_type": "display_data"
    }
   ],
   "source": [
    "face_recognition('images/New Project.jpg')"
   ]
  },
  {
   "cell_type": "code",
   "execution_count": 131,
   "metadata": {},
   "outputs": [],
   "source": [
    "live_feed()"
   ]
  }
 ],
 "metadata": {
  "kernelspec": {
   "display_name": "Python 3",
   "language": "python",
   "name": "python3"
  },
  "language_info": {
   "codemirror_mode": {
    "name": "ipython",
    "version": 3
   },
   "file_extension": ".py",
   "mimetype": "text/x-python",
   "name": "python",
   "nbconvert_exporter": "python",
   "pygments_lexer": "ipython3",
   "version": "3.8.3"
  }
 },
 "nbformat": 4,
 "nbformat_minor": 4
}
